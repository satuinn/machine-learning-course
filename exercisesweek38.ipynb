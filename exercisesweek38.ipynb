{
 "cells": [
  {
   "cell_type": "markdown",
   "id": "1da77599",
   "metadata": {},
   "source": [
    "# Exercises week 38\n",
    "\n",
    "## September 15-19\n",
    "\n",
    "## Resampling and the Bias-Variance Trade-off\n"
   ]
  },
  {
   "cell_type": "markdown",
   "id": "e9f27b0e",
   "metadata": {},
   "source": [
    "### Learning goals\n",
    "\n",
    "After completing these exercises, you will know how to\n",
    "\n",
    "- Derive expectation and variances values related to linear regression\n",
    "- Compute expectation and variances values related to linear regression\n",
    "- Compute and evaluate the trade-off between bias and variance of a model\n",
    "\n",
    "### Deliverables\n",
    "\n",
    "Complete the following exercises while working in a jupyter notebook. Then, in canvas, include\n",
    "\n",
    "- The jupyter notebook with the exercises completed\n",
    "- An exported PDF of the notebook (https://code.visualstudio.com/docs/datascience/jupyter-notebooks#_export-your-jupyter-notebook)\n"
   ]
  },
  {
   "cell_type": "markdown",
   "id": "984af8e3",
   "metadata": {},
   "source": [
    "## Use the books!\n",
    "\n",
    "This week deals with various mean values and variances in linear regression methods (here it may be useful to look up chapter 3, equation (3.8) of [Trevor Hastie, Robert Tibshirani, Jerome H. Friedman, The Elements of Statistical Learning, Springer](https://www.springer.com/gp/book/9780387848570)).\n",
    "\n",
    "For more discussions on Ridge regression and calculation of expectation values, [Wessel van Wieringen's](https://arxiv.org/abs/1509.09169) article is highly recommended.\n",
    "\n",
    "The exercises this week are also a part of project 1 and can be reused in the theory part of the project.\n",
    "\n",
    "### Definitions\n",
    "\n",
    "We assume that there exists a continuous function $f(\\boldsymbol{x})$ and a normal distributed error $\\boldsymbol{\\varepsilon}\\sim N(0, \\sigma^2)$ which describes our data\n"
   ]
  },
  {
   "cell_type": "markdown",
   "id": "c16f7d0e",
   "metadata": {},
   "source": [
    "$$\n",
    "\\boldsymbol{y} = f(\\boldsymbol{x})+\\boldsymbol{\\varepsilon}\n",
    "$$\n"
   ]
  },
  {
   "cell_type": "markdown",
   "id": "9fcf981a",
   "metadata": {
    "vscode": {
     "languageId": "plaintext"
    }
   },
   "source": [
    "We further assume that this continous function can be modeled with a linear model $\\mathbf{\\tilde{y}}$ of some features $\\mathbf{X}$.\n"
   ]
  },
  {
   "cell_type": "markdown",
   "id": "d4189366",
   "metadata": {},
   "source": [
    "$$\n",
    "\\boldsymbol{y} = \\boldsymbol{\\tilde{y}} + \\boldsymbol{\\varepsilon} = \\boldsymbol{X}\\boldsymbol{\\beta} +\\boldsymbol{\\varepsilon}\n",
    "$$\n"
   ]
  },
  {
   "cell_type": "markdown",
   "id": "f4fca21b",
   "metadata": {},
   "source": [
    "We therefore get that our data $\\boldsymbol{y}$ has an expectation value $\\boldsymbol{X}\\boldsymbol{\\beta}$ and variance $\\sigma^2$, that is $\\boldsymbol{y}$ follows a normal distribution with mean value $\\boldsymbol{X}\\boldsymbol{\\beta}$ and variance $\\sigma^2$.\n"
   ]
  },
  {
   "cell_type": "markdown",
   "id": "5de0c7e6",
   "metadata": {},
   "source": [
    "## Exercise 1: Expectation values for ordinary least squares expressions\n"
   ]
  },
  {
   "cell_type": "markdown",
   "id": "d878c699",
   "metadata": {},
   "source": [
    "**a)** With the expressions for the optimal parameters $\\boldsymbol{\\hat{\\beta}_{OLS}}$ show that\n"
   ]
  },
  {
   "cell_type": "markdown",
   "id": "08b7007d",
   "metadata": {},
   "source": [
    "$$\n",
    "\\mathbb{E}(\\boldsymbol{\\hat{\\beta}_{OLS}}) = \\boldsymbol{\\beta}.\n",
    "$$\n"
   ]
  },
  {
   "cell_type": "markdown",
   "id": "759b7521",
   "metadata": {},
   "source": [
    "![1a_week38](1a_week38.jpg)"
   ]
  },
  {
   "cell_type": "markdown",
   "id": "46e93394",
   "metadata": {},
   "source": [
    "**b)** Show that the variance of $\\boldsymbol{\\hat{\\beta}_{OLS}}$ is\n"
   ]
  },
  {
   "cell_type": "markdown",
   "id": "be1b65be",
   "metadata": {},
   "source": [
    "$$\n",
    "\\mathbf{Var}(\\boldsymbol{\\hat{\\beta}_{OLS}}) = \\sigma^2 \\, (\\mathbf{X}^{T} \\mathbf{X})^{-1}.\n",
    "$$\n"
   ]
  },
  {
   "cell_type": "markdown",
   "id": "d2143684",
   "metadata": {},
   "source": [
    "We can use the last expression when we define a [confidence interval](https://en.wikipedia.org/wiki/Confidence_interval) for the parameters $\\boldsymbol{\\hat{\\beta}_{OLS}}$.\n",
    "A given parameter ${\\boldsymbol{\\hat{\\beta}_{OLS}}}_j$ is given by the diagonal matrix element of the above matrix.\n"
   ]
  },
  {
   "cell_type": "markdown",
   "id": "89db5df4",
   "metadata": {},
   "source": [
    "![1b_38](E1b_38.jpg)"
   ]
  },
  {
   "cell_type": "markdown",
   "id": "f5c2dc22",
   "metadata": {},
   "source": [
    "## Exercise 2: Expectation values for Ridge regression\n"
   ]
  },
  {
   "cell_type": "markdown",
   "id": "3893e3e7",
   "metadata": {},
   "source": [
    "**a)** With the expressions for the optimal parameters $\\boldsymbol{\\hat{\\beta}_{Ridge}}$ show that\n"
   ]
  },
  {
   "cell_type": "markdown",
   "id": "79dc571f",
   "metadata": {},
   "source": [
    "$$\n",
    "\\mathbb{E} \\big[ \\hat{\\boldsymbol{\\beta}}^{\\mathrm{Ridge}} \\big]=(\\mathbf{X}^{T} \\mathbf{X} + \\lambda \\mathbf{I}_{pp})^{-1} (\\mathbf{X}^{\\top} \\mathbf{X})\\boldsymbol{\\beta}\n",
    "$$\n"
   ]
  },
  {
   "cell_type": "markdown",
   "id": "028209a1",
   "metadata": {},
   "source": [
    "We see that $\\mathbb{E} \\big[ \\hat{\\boldsymbol{\\beta}}^{\\mathrm{Ridge}} \\big] \\not= \\mathbb{E} \\big[\\hat{\\boldsymbol{\\beta}}^{\\mathrm{OLS}}\\big ]$ for any $\\lambda > 0$.\n"
   ]
  },
  {
   "cell_type": "markdown",
   "id": "c85192f4",
   "metadata": {},
   "source": [
    "![E2_week38](E2_38.jpg)"
   ]
  },
  {
   "cell_type": "markdown",
   "id": "65f6f914",
   "metadata": {},
   "source": [
    "**b)** Why do we say that Ridge regression gives a biased estimate? Is this a problem?\n"
   ]
  },
  {
   "cell_type": "markdown",
   "id": "0821d9c2",
   "metadata": {},
   "source": [
    "Because lambda introduces the shift in the bias, which is the goal of Ridge, simultaneously decreasing the variance. If we for some reason don't want the increased bias, then it is a problem?"
   ]
  },
  {
   "cell_type": "markdown",
   "id": "b4e721fc",
   "metadata": {},
   "source": [
    "**c)** Show that the variance is\n"
   ]
  },
  {
   "cell_type": "markdown",
   "id": "090eb1e1",
   "metadata": {},
   "source": [
    "$$\n",
    "\\mathbf{Var}[\\hat{\\boldsymbol{\\beta}}^{\\mathrm{Ridge}}]=\\sigma^2[  \\mathbf{X}^{T} \\mathbf{X} + \\lambda \\mathbf{I} ]^{-1}  \\mathbf{X}^{T}\\mathbf{X} \\{ [  \\mathbf{X}^{\\top} \\mathbf{X} + \\lambda \\mathbf{I} ]^{-1}\\}^{T}\n",
    "$$\n"
   ]
  },
  {
   "cell_type": "markdown",
   "id": "6b8e8697",
   "metadata": {},
   "source": [
    "We see that if the parameter $\\lambda$ goes to infinity then the variance of the Ridge parameters $\\boldsymbol{\\beta}$ goes to zero.\n"
   ]
  },
  {
   "cell_type": "markdown",
   "id": "74bc300b",
   "metadata": {},
   "source": [
    "## Exercise 3: Deriving the expression for the Bias-Variance Trade-off\n"
   ]
  },
  {
   "cell_type": "markdown",
   "id": "eeb86010",
   "metadata": {},
   "source": [
    "The aim of this exercise is to derive the equations for the bias-variance tradeoff to be used in project 1.\n",
    "\n",
    "The parameters $\\boldsymbol{\\hat{\\beta}_{OLS}}$ are found by optimizing the mean squared error via the so-called cost function\n"
   ]
  },
  {
   "cell_type": "markdown",
   "id": "522a0d1d",
   "metadata": {},
   "source": [
    "$$\n",
    "C(\\boldsymbol{X},\\boldsymbol{\\beta}) =\\frac{1}{n}\\sum_{i=0}^{n-1}(y_i-\\tilde{y}_i)^2=\\mathbb{E}\\left[(\\boldsymbol{y}-\\boldsymbol{\\tilde{y}})^2\\right]\n",
    "$$\n"
   ]
  },
  {
   "cell_type": "markdown",
   "id": "831db06c",
   "metadata": {},
   "source": [
    "**a)** Show that you can rewrite this into an expression which contains\n",
    "\n",
    "- the variance of the model (the variance term)\n",
    "- the expected deviation of the mean of the model from the true data (the bias term)\n",
    "- the variance of the noise\n",
    "\n",
    "In other words, show that:\n"
   ]
  },
  {
   "cell_type": "markdown",
   "id": "8cc52b3c",
   "metadata": {},
   "source": [
    "$$\n",
    "\\mathbb{E}\\left[(\\boldsymbol{y}-\\boldsymbol{\\tilde{y}})^2\\right]=\\mathrm{Bias}[\\tilde{y}]+\\mathrm{var}[\\tilde{y}]+\\sigma^2,\n",
    "$$\n"
   ]
  },
  {
   "cell_type": "markdown",
   "id": "8cb50416",
   "metadata": {},
   "source": [
    "with\n"
   ]
  },
  {
   "cell_type": "markdown",
   "id": "e49bdbb4",
   "metadata": {},
   "source": [
    "$$\n",
    "\\mathrm{Bias}[\\tilde{y}]=\\mathbb{E}\\left[\\left(\\boldsymbol{y}-\\mathbb{E}\\left[\\boldsymbol{\\tilde{y}}\\right]\\right)^2\\right],\n",
    "$$\n"
   ]
  },
  {
   "cell_type": "markdown",
   "id": "eca5554a",
   "metadata": {},
   "source": [
    "and\n"
   ]
  },
  {
   "cell_type": "markdown",
   "id": "b1054343",
   "metadata": {},
   "source": [
    "$$\n",
    "\\mathrm{var}[\\tilde{y}]=\\mathbb{E}\\left[\\left(\\tilde{\\boldsymbol{y}}-\\mathbb{E}\\left[\\boldsymbol{\\tilde{y}}\\right]\\right)^2\\right]=\\frac{1}{n}\\sum_i(\\tilde{y}_i-\\mathbb{E}\\left[\\boldsymbol{\\tilde{y}}\\right])^2.\n",
    "$$\n"
   ]
  },
  {
   "cell_type": "markdown",
   "id": "735dc442",
   "metadata": {},
   "source": [
    "![E3_38](E3_week38.jpg)"
   ]
  },
  {
   "cell_type": "markdown",
   "id": "70fbfcd7",
   "metadata": {},
   "source": [
    "**b)** Explain what the terms mean and discuss their interpretations.\n"
   ]
  },
  {
   "cell_type": "markdown",
   "id": "88b6c22e",
   "metadata": {},
   "source": [
    "The bias-term describes the systematic offset between the predictions and the target due to too simple model. The variance of the model describes the fluctuation of predictions between different training sets. Between different training sets the predictions change a lot. The variance of the error $\\epsilon$ describes the irreducible error."
   ]
  },
  {
   "cell_type": "markdown",
   "id": "b8f8b9d1",
   "metadata": {},
   "source": [
    "## Exercise 4: Computing the Bias and Variance\n"
   ]
  },
  {
   "cell_type": "markdown",
   "id": "9e012430",
   "metadata": {},
   "source": [
    "Before you compute the bias and variance of a real model for different complexities, let's for now assume that you have sampled predictions and targets for a single model complexity using bootstrap resampling.\n",
    "\n",
    "**a)** Using the expression above, compute the mean squared error, bias and variance of the given data. Check that the sum of the bias and variance correctly gives (approximately) the mean squared error.\n"
   ]
  },
  {
   "cell_type": "code",
   "execution_count": 102,
   "id": "b5bf581c",
   "metadata": {},
   "outputs": [
    {
     "name": "stdout",
     "output_type": "stream",
     "text": [
      "Error: 218.55296160787466\n",
      "Bias^2: 210.32605228136936\n",
      "Var: 8.22256104229292\n"
     ]
    }
   ],
   "source": [
    "import numpy as np\n",
    "\n",
    "n = 100\n",
    "bootstraps = 1000\n",
    "np.random.seed(2018)\n",
    "\n",
    "predictions = np.random.rand(bootstraps, n) *10 + 10 # each row is an experiment\n",
    "targets = np.random.rand(bootstraps, n)\n",
    "\n",
    "mse = np.mean(np.mean((targets-predictions)**2, axis=1, keepdims=True)) # axis=1, across each row\n",
    "bias = np.mean((targets - np.mean(predictions, axis=1, keepdims=True))**2)\n",
    "variance = np.mean(np.var(predictions, axis=1, keepdims=True))\n",
    "\n",
    "print('Error:', mse)\n",
    "print('Bias^2:', bias)\n",
    "print('Var:', variance)"
   ]
  },
  {
   "cell_type": "markdown",
   "id": "7b1dc621",
   "metadata": {},
   "source": [
    "**b)** Change the prediction values in some way to increase the bias while decreasing the variance.\n"
   ]
  },
  {
   "cell_type": "code",
   "execution_count": 103,
   "id": "bc3ddc66",
   "metadata": {},
   "outputs": [
    {
     "name": "stdout",
     "output_type": "stream",
     "text": [
      "Error: 146.15810894752357\n",
      "Bias^2: 144.10029454484413\n",
      "Var: 2.05564026057323\n"
     ]
    }
   ],
   "source": [
    "# To increase bias but decrease variance, shifting less, so multiply with e.g. 5 instead of 10 \n",
    "np.random.seed(2018)\n",
    "predictions = np.random.rand(bootstraps, n) *5 + 10 # each row is an experiment\n",
    "targets = np.random.rand(bootstraps, n)\n",
    "\n",
    "mse = np.mean(np.mean((targets-predictions)**2, axis=1, keepdims=True)) # axis=1, across each row\n",
    "bias = np.mean((targets - np.mean(predictions, axis=1, keepdims=True))**2)\n",
    "variance = np.mean(np.var(predictions, axis=1, keepdims=True))\n",
    "\n",
    "print('Error:', mse)\n",
    "print('Bias^2:', bias)\n",
    "print('Var:', variance)"
   ]
  },
  {
   "cell_type": "markdown",
   "id": "d6f6dea1",
   "metadata": {},
   "source": [
    "**c)** Change the prediction values in some way to increase the variance while decreasing the bias."
   ]
  },
  {
   "cell_type": "code",
   "execution_count": 104,
   "id": "cdf463ec",
   "metadata": {},
   "outputs": [
    {
     "name": "stdout",
     "output_type": "stream",
     "text": [
      "Error: 123.13269439186568\n",
      "Bias^2: 90.2020743472604\n",
      "Var: 32.93174337170374\n"
     ]
    }
   ],
   "source": [
    "# to increase the variance, introduce more noise \n",
    "np.random.seed(2018)\n",
    "predictions = np.random.rand(bootstraps, n) *10*np.random.normal(size=(bootstraps, n)) + 10 # each row is an experiment\n",
    "targets = np.random.rand(bootstraps, n)\n",
    "\n",
    "mse = np.mean(np.mean((targets-predictions)**2, axis=1, keepdims=True)) # axis=1, across each row\n",
    "bias = np.mean((targets - np.mean(predictions, axis=1, keepdims=True))**2)\n",
    "variance = np.mean(np.var(predictions, axis=1, keepdims=True))\n",
    "\n",
    "print('Error:', mse)\n",
    "print('Bias^2:', bias)\n",
    "print('Var:', variance)"
   ]
  },
  {
   "cell_type": "markdown",
   "id": "8da63362",
   "metadata": {},
   "source": [
    "**d)** Perform a bias-variance analysis of a polynomial OLS model fit to a one-dimensional function by computing and plotting the bias and variances values as a function of the polynomial degree of your model.\n"
   ]
  },
  {
   "cell_type": "code",
   "execution_count": 105,
   "id": "dd5855e4",
   "metadata": {},
   "outputs": [],
   "source": [
    "import numpy as np\n",
    "import matplotlib.pyplot as plt\n",
    "from sklearn.preprocessing import PolynomialFeatures # use the fit_transform method of the created object!\n",
    "from sklearn.linear_model import LinearRegression\n",
    "from sklearn.metrics import mean_squared_error\n",
    "from sklearn.model_selection import train_test_split\n",
    "from sklearn.utils import resample\n",
    "from sklearn.pipeline import make_pipeline\n",
    "from sklearn.preprocessing import StandardScaler"
   ]
  },
  {
   "cell_type": "code",
   "execution_count": 106,
   "id": "66ba81b2",
   "metadata": {},
   "outputs": [],
   "source": [
    "# build the design matrix\n",
    "def polynomial_features(x, d, intercept=False):\n",
    "    n = len(x)\n",
    "    X = np.zeros((n, d + 1))\n",
    "\n",
    "    for i in range(p+1):\n",
    "        X[:,i] = x**i \n",
    "\n",
    "    if intercept:\n",
    "        return X\n",
    "    else:\n",
    "        return X[:,1:] # if intercept false, return columns 1-p (not column 0)\n",
    "    \n",
    "# optimal parameters\n",
    "def OLS_parameters(X, y):\n",
    "    return np.linalg.inv(X.T @ X) @ X.T @ y \n"
   ]
  },
  {
   "cell_type": "code",
   "execution_count": 107,
   "id": "7a80ac90",
   "metadata": {},
   "outputs": [],
   "source": [
    "# n = 100\n",
    "# bootstraps = 1000\n",
    "\n",
    "# x = np.linspace(-3, 3, n)\n",
    "# y = np.exp(-(x**2)) + 1.5 * np.exp(-((x - 2) ** 2)) + np.random.normal(0, 0.1)\n",
    "\n",
    "# biases = []\n",
    "# variances = []\n",
    "# mses = []\n",
    "\n",
    "# maxdegree = 8 \n",
    "\n",
    "# for p in range(1, 5):\n",
    "# #    predictions = ...\n",
    "# #    targets = ...\n",
    "\n",
    "#    X = polynomial_features(x, maxdegree, intercept=False) # design matrix\n",
    "#    X_train, X_test, y_train, y_test = train_test_split(X, y, test_size=0.2, random_state=1) # splitting the data \n",
    "\n",
    "#    beta = OLS_parameters(X_train, y_train)\n",
    "\n",
    "#    for b in range(bootstraps):\n",
    "#        X_train_re, y_train_re = ...\n",
    "\n",
    "#        # fit your model on the sampled data\n",
    "\n",
    "#        # make predictions on the test data\n",
    "#        predictions[b, :] =\n",
    "#        targets[b, :] =\n",
    "\n",
    "#    biases.append(...)\n",
    "#    variances.append(...)\n",
    "#    mses.append(...)"
   ]
  },
  {
   "cell_type": "code",
   "execution_count": 108,
   "id": "0aaafb43",
   "metadata": {},
   "outputs": [],
   "source": [
    "# # design matrix, split, bootstraps\n",
    "\n",
    "# n = 100\n",
    "# bootstraps = 1000\n",
    "\n",
    "# x = np.linspace(-3, 3, n).reshape(-1, 1)\n",
    "# y = np.exp(-(x**2)) + 1.5 * np.exp(-((x - 2) ** 2)) + np.random.normal(0, 0.1)\n",
    "\n",
    "# maxdegree = 8 \n",
    "# X = polynomial_features(x, maxdegree, intercept=False) "
   ]
  },
  {
   "cell_type": "code",
   "execution_count": 109,
   "id": "308e7f2a",
   "metadata": {},
   "outputs": [
    {
     "data": {
      "text/plain": [
       "(100,)"
      ]
     },
     "execution_count": 109,
     "metadata": {},
     "output_type": "execute_result"
    }
   ],
   "source": [
    "x = np.linspace(-3, 3, n) # reshape \n",
    "x.shape\n"
   ]
  },
  {
   "cell_type": "code",
   "execution_count": null,
   "id": "7e35fa37",
   "metadata": {},
   "outputs": [
    {
     "data": {
      "image/png": "[encoded data removed]",
      "text/plain": [
       "<Figure size 640x480 with 1 Axes>"
      ]
     },
     "metadata": {},
     "output_type": "display_data"
    }
   ],
   "source": [
    "np.random.seed(2017) \n",
    "\n",
    "n = 100\n",
    "bootstraps = 1000\n",
    "maxdegree = 8\n",
    "\n",
    "# make dataset\n",
    "x = np.linspace(-3, 3, n).reshape(-1, 1) # reshape to scikit learn shape\n",
    "y = np.exp(-(x**2)) + 1.5 * np.exp(-((x - 2) ** 2)) + np.random.normal(0, 0.1, x.shape)\n",
    "\n",
    "# initialize\n",
    "biases = np.zeros(maxdegree)\n",
    "variances = np.zeros(maxdegree)\n",
    "mses = np.zeros(maxdegree)\n",
    "polydegree = np.zeros(maxdegree)\n",
    "\n",
    "# split to test and train\n",
    "x_train, x_test, y_train, y_test = train_test_split(x, y, test_size=0.2, random_state=1)\n",
    "\n",
    "\n",
    "for p in range(maxdegree): # loop through the degrees of polynomial\n",
    "   # initialize predictions, shape [max degree, bootstraps]\n",
    "   predictions = np.empty((y_test.shape[0], bootstraps))\n",
    "   #targets = np.empty((y_test.shape[0], bootstraps))\n",
    "\n",
    "   # Combine x transformation and model \n",
    "   model = make_pipeline(PolynomialFeatures(degree=p), LinearRegression(fit_intercept=False))\n",
    "\n",
    "   for b in range(bootstraps):\n",
    "       X_train_re, y_train_re = resample(x_train, y_train, n_samples=20) # bootstrap resampling, taking e.g. 20 samples \n",
    "\n",
    "       # fit your model on the sampled data\n",
    "       # make predictions on the test data\n",
    "       predictions[:,b] = model.fit(X_train_re, y_train_re).predict(x_test).ravel() # Evaluate the new model on the same test data each time.\n",
    "\n",
    "    \n",
    "   polydegree[p] = p \n",
    "   biases[p] = np.mean( (y_test - np.mean(predictions, axis=1, keepdims=True))**2 )\n",
    "   variances[p] = np.mean( np.var(predictions, axis=1, keepdims=True) )\n",
    "   mses[p] = np.mean( np.mean((y_test - predictions)**2, axis=1, keepdims=True))\n",
    "\n",
    "\n",
    "plt.plot(polydegree, mses, label='Error')\n",
    "plt.plot(polydegree, biases, label='bias')\n",
    "plt.plot(polydegree, variances, label='Variance')\n",
    "plt.yscale(\"log\")\n",
    "plt.legend()\n",
    "plt.show()"
   ]
  },
  {
   "cell_type": "markdown",
   "id": "253b8461",
   "metadata": {},
   "source": [
    "**e)** Discuss the bias-variance trade-off as function of your model complexity (the degree of the polynomial).\n",
    "\n",
    "**f)** Compute and discuss the bias and variance as function of the number of data points (choose a suitable polynomial degree to show something interesting).\n"
   ]
  },
  {
   "cell_type": "code",
   "execution_count": 114,
   "id": "314ac16d",
   "metadata": {},
   "outputs": [
    {
     "data": {
      "image/png": "[encoded data removed]",
      "text/plain": [
       "<Figure size 640x480 with 1 Axes>"
      ]
     },
     "metadata": {},
     "output_type": "display_data"
    }
   ],
   "source": [
    "np.random.seed(2017) \n",
    "\n",
    "n = 100\n",
    "bootstraps = 1000\n",
    "maxdegree = 8\n",
    "\n",
    "# make dataset\n",
    "x = np.linspace(-3, 3, n).reshape(-1, 1) # reshape to scikit learn shape\n",
    "y = np.exp(-(x**2)) + 1.5 * np.exp(-((x - 2) ** 2)) + np.random.normal(0, 0.1, x.shape)\n",
    "\n",
    "# initialize\n",
    "n_test = list(range(5,n,5))\n",
    "biases = np.zeros(len(n_test))\n",
    "variances = np.zeros(len(n_test))\n",
    "mses = np.zeros(len(n_test))\n",
    "polydegree = np.zeros(len(n_test))\n",
    "\n",
    "# split to test and train\n",
    "x_train, x_test, y_train, y_test = train_test_split(x, y, test_size=0.2, random_state=1)\n",
    "\n",
    "for i,p in enumerate(n_test): # loop through the degrees of polynomial\n",
    "   # initialize predictions, shape [max degree, bootstraps]\n",
    "   predictions = np.empty((y_test.shape[0], bootstraps))\n",
    "   #targets = np.empty((y_test.shape[0], bootstraps))\n",
    "\n",
    "   # Combine x transformation and model \n",
    "   model = make_pipeline(PolynomialFeatures(degree=maxdegree), LinearRegression(fit_intercept=False))\n",
    "\n",
    "   for b in range(bootstraps):\n",
    "       X_train_re, y_train_re = resample(x_train, y_train, n_samples=p) # bootstrap resampling, taking e.g. 20 samples \n",
    "\n",
    "       # fit your model on the sampled data\n",
    "       # make predictions on the test data\n",
    "       predictions[:,b] = model.fit(X_train_re, y_train_re).predict(x_test).ravel() # Evaluate the new model on the same test data each time.\n",
    "\n",
    "    \n",
    "   polydegree[i] = p \n",
    "   biases[i] = np.mean( (y_test - np.mean(predictions, axis=1, keepdims=True))**2 )\n",
    "   variances[i] = np.mean( np.var(predictions, axis=1, keepdims=True) )\n",
    "   mses[i] = np.mean( np.mean((y_test - predictions)**2, axis=1, keepdims=True))\n",
    "\n",
    "\n",
    "plt.plot(polydegree, mses, label='Error')\n",
    "plt.plot(polydegree, biases, label='bias')\n",
    "plt.plot(polydegree, variances, label='Variance')\n",
    "plt.yscale(\"log\")\n",
    "plt.legend()\n",
    "plt.show()"
   ]
  },
  {
   "cell_type": "markdown",
   "id": "46250fbc",
   "metadata": {},
   "source": [
    "## Exercise 5: Interpretation of scaling and metrics\n"
   ]
  },
  {
   "cell_type": "markdown",
   "id": "5af53055",
   "metadata": {},
   "source": [
    "In this course, we often ask you to scale data and compute various metrics. Although these practices are \"standard\" in the field, we will require you to demonstrate an understanding of _why_ you need to scale data and use these metrics. Both so that you can make better arguements about your results, and so that you will hopefully make fewer mistakes.\n",
    "\n",
    "First, a few reminders: In this course you should always scale the columns of the feature matrix, and sometimes scale the target data, when it is worth the effort. By scaling, we mean subtracting the mean and dividing by the standard deviation, though there are many other ways to scale data. When scaling either the feature matrix or the target data, the intercept becomes a bit harder to implement and understand, so take care.\n",
    "\n",
    "Briefly answer the following:\n",
    "\n",
    "**a)** Why do we scale data?\n",
    "\n",
    "**b)** Why does the OLS method give practically equivelent models on scaled and unscaled data?\n",
    "\n",
    "**c)** Why does the Ridge method **not** give practically equivelent models on scaled and unscaled data? Why do we only consider the model on scaled data correct?\n",
    "\n",
    "**d)** Why do we say that the Ridge method gives a biased model?\n",
    "\n",
    "**e)** Is the MSE of the OLS method affected by scaling of the feature matrix? Is it affected by scaling of the target data?\n",
    "\n",
    "**f)** Read about the R2 score, a metric we will ask you to use a lot later in the course. Is the R2 score of the OLS method affected by scaling of the feature matrix? Is it affected by scaling of the target data?\n",
    "\n",
    "**g)** Give interpretations of the following R2 scores: 0, 0.5, 1.\n",
    "\n",
    "**h)** What is an advantage of the R2 score over the MSE?\n"
   ]
  },
  {
   "cell_type": "markdown",
   "id": "d7439d28",
   "metadata": {},
   "source": [
    "a) Data scaling is important especially if the scale of different variables (e.g. air temperature, wind speed, air pressure) is large. Some methods may not work well with very different scales. \n",
    "\n",
    "b) With OLS, the scaling doesn't make a difference, because the parameters would change accordingly when scaling the data. An example from here: https://stats.stackexchange.com/questions/615308/why-feature-scaling-does-not-affect-prediction-output-in-regression: If x was scaled, then beta would just be multiplied by the same amount and the result is the same.\n",
    "\n",
    "c) Ridge \n",
    "\n",
    "d) \n",
    "\n",
    "e) \n",
    "\n",
    "f)\n",
    "\n",
    "g)\n",
    "\n",
    "h)\n",
    "\n",
    "\n",
    "\n"
   ]
  },
  {
   "cell_type": "markdown",
   "id": "73f938e8",
   "metadata": {},
   "source": []
  },
  {
   "cell_type": "markdown",
   "id": "6dfee0d0",
   "metadata": {},
   "source": []
  }
 ],
 "metadata": {
  "kernelspec": {
   "display_name": "venv (3.13.5)",
   "language": "python",
   "name": "python3"
  },
  "language_info": {
   "codemirror_mode": {
    "name": "ipython",
    "version": 3
   },
   "file_extension": ".py",
   "mimetype": "text/x-python",
   "name": "python",
   "nbconvert_exporter": "python",
   "pygments_lexer": "ipython3",
   "version": "3.13.5"
  }
 },
 "nbformat": 4,
 "nbformat_minor": 5
}
