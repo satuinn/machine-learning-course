{
 "cells": [
  {
   "cell_type": "markdown",
   "id": "8e6632a0",
   "metadata": {
    "editable": true
   },
   "source": [
    "<!-- HTML file automatically generated from DocOnce source (https://github.com/doconce/doconce/)\n",
    "doconce format html exercisesweek37.do.txt  -->\n",
    "<!-- dom:TITLE: Exercises week 37 -->"
   ]
  },
  {
   "cell_type": "markdown",
   "id": "82705c4f",
   "metadata": {
    "editable": true
   },
   "source": [
    "# Exercises week 37\n",
    "**Implementing gradient descent for Ridge and ordinary Least Squares Regression**\n",
    "\n",
    "Date: **September 8-12, 2025**"
   ]
  },
  {
   "cell_type": "markdown",
   "id": "921bf331",
   "metadata": {
    "editable": true
   },
   "source": [
    "## Learning goals\n",
    "\n",
    "After having completed these exercises you will have:\n",
    "1. Your own code for the implementation of the simplest gradient descent approach applied to ordinary least squares (OLS) and Ridge regression\n",
    "\n",
    "2. Be able to compare the analytical expressions for OLS and Ridge regression with the gradient descent approach\n",
    "\n",
    "3. Explore the role of the learning rate in the gradient descent approach and the hyperparameter $\\lambda$ in Ridge regression\n",
    "\n",
    "4. Scale the data properly"
   ]
  },
  {
   "cell_type": "markdown",
   "id": "adff65d5",
   "metadata": {
    "editable": true
   },
   "source": [
    "## Simple one-dimensional second-order polynomial\n",
    "\n",
    "We start with a very simple function"
   ]
  },
  {
   "cell_type": "markdown",
   "id": "70418b3d",
   "metadata": {
    "editable": true
   },
   "source": [
    "$$\n",
    "f(x)= 2-x+5x^2,\n",
    "$$"
   ]
  },
  {
   "cell_type": "markdown",
   "id": "11a3cf73",
   "metadata": {
    "editable": true
   },
   "source": [
    "defined for $x\\in [-2,2]$. You can add noise if you wish. \n",
    "\n",
    "We are going to fit this function with a polynomial ansatz. The easiest thing is to set up a second-order polynomial and see if you can fit the above function.\n",
    "Feel free to play around with higher-order polynomials."
   ]
  },
  {
   "cell_type": "code",
   "execution_count": 171,
   "id": "43005885",
   "metadata": {},
   "outputs": [],
   "source": [
    "import numpy as np\n",
    "import matplotlib.pyplot as plt\n",
    "from sklearn.model_selection import train_test_split\n",
    "from sklearn.preprocessing import StandardScaler"
   ]
  },
  {
   "cell_type": "markdown",
   "id": "04a06b51",
   "metadata": {
    "editable": true
   },
   "source": [
    "## Exercise 1, scale your data\n",
    "\n",
    "Before fitting a regression model, it is good practice to normalize or\n",
    "standardize the features. This ensures all features are on a\n",
    "comparable scale, which is especially important when using\n",
    "regularization. Here we will perform standardization, scaling each\n",
    "feature to have mean 0 and standard deviation 1."
   ]
  },
  {
   "cell_type": "markdown",
   "id": "408db3d9",
   "metadata": {
    "editable": true
   },
   "source": [
    "### 1a)\n",
    "\n",
    "Compute the mean and standard deviation of each column (feature) in your design/feature matrix $\\boldsymbol{X}$.\n",
    "Subtract the mean and divide by the standard deviation for each feature.\n",
    "\n",
    "We will also center the target $\\boldsymbol{y}$ to mean $0$. Centering $\\boldsymbol{y}$\n",
    "(and each feature) means the model does not require a separate intercept\n",
    "term, the data is shifted such that the intercept is effectively 0\n",
    ". (In practice, one could include an intercept in the model and not\n",
    "penalize it, but here we simplify by centering.)\n",
    "Choose $n=100$ data points and set up $\\boldsymbol{x}$, $\\boldsymbol{y}$ and the design matrix $\\boldsymbol{X}$."
   ]
  },
  {
   "cell_type": "code",
   "execution_count": 172,
   "id": "cc745ce1",
   "metadata": {},
   "outputs": [],
   "source": [
    "n = 100\n",
    "x = np.linspace(-2,2,n)\n",
    "y = 2 - x + 5*x**2 #+ np.random.normal(0, 0.1)"
   ]
  },
  {
   "cell_type": "code",
   "execution_count": 173,
   "id": "0aaf08bc",
   "metadata": {},
   "outputs": [],
   "source": [
    "# build the design matrix\n",
    "def polynomial_features(x, p, intercept=False):\n",
    "    n = len(x)\n",
    "    X = np.zeros((n, p + 1))\n",
    "\n",
    "    for i in range(p+1):\n",
    "        X[:,i] = x**i \n",
    "\n",
    "    if intercept:\n",
    "        return X\n",
    "    else:\n",
    "        return X[:,1:] # if intercept false, return columns 1-p (not column 0)\n",
    "    \n",
    "p = 2 # second order polynomial\n",
    "X = polynomial_features(x, p, intercept=False) "
   ]
  },
  {
   "cell_type": "code",
   "execution_count": 174,
   "id": "37fb732c",
   "metadata": {
    "collapsed": false,
    "editable": true
   },
   "outputs": [],
   "source": [
    "# Standardize features (zero mean, unit variance for each feature)\n",
    "X_mean = X.mean(axis=0)\n",
    "X_std = X.std(axis=0)\n",
    "X_std[X_std == 0] = 1  # safeguard to avoid division by zero for constant features\n",
    "X_norm = (X - X_mean) / X_std\n",
    "\n",
    "# Center the target to zero mean (optional, to simplify intercept handling)\n",
    "y_mean = y.mean()\n",
    "y_centered = y - y_mean"
   ]
  },
  {
   "cell_type": "markdown",
   "id": "d861e1e3",
   "metadata": {
    "editable": true
   },
   "source": [
    "Fill in the necessary details. Do we need to center the $y$-values? \n",
    "\n",
    "After this preprocessing, each column of $\\boldsymbol{X}_{\\mathrm{norm}}$ has mean zero and standard deviation $1$\n",
    "and $\\boldsymbol{y}_{\\mathrm{centered}}$ has mean 0. This makes the optimization landscape\n",
    "nicer and ensures the regularization penalty $\\lambda \\sum_j\n",
    "\\theta_j^2$ in Ridge regression treats each coefficient fairly (since features are on the\n",
    "same scale)."
   ]
  },
  {
   "cell_type": "markdown",
   "id": "b3e774d0",
   "metadata": {
    "editable": true
   },
   "source": [
    "## Exercise 2, calculate the gradients\n",
    "\n",
    "Find the gradients for OLS and Ridge regression using the mean-squared error as cost/loss function."
   ]
  },
  {
   "cell_type": "markdown",
   "id": "6dde1c02",
   "metadata": {},
   "source": [
    "For OLS:\n",
    "$\\nabla_{\\theta} C(\\theta) = \\frac{2}{n}\\begin{bmatrix} \\sum_{i=1}^{100} \\left(\\theta_0+\\theta_1x_i-y_i\\right) \\\\\n",
    "\\sum_{i=1}^{100}\\left( x_i (\\theta_0+\\theta_1x_i)-y_ix_i\\right) \\\\\n",
    "\\end{bmatrix} = \\frac{2}{n}X^T(X\\theta - \\mathbf{y})$\n",
    "\n",
    "For Ridge: \n",
    "$\\nabla_{\\theta} C(\\theta) = \\frac{2}{n}X^T(X\\theta - \\mathbf{y}) + 2\\lambda \\theta$"
   ]
  },
  {
   "cell_type": "markdown",
   "id": "d5dc7708",
   "metadata": {
    "editable": true
   },
   "source": [
    "## Exercise 3, using the analytical formulae for OLS and Ridge regression to find the optimal parameters $\\boldsymbol{\\theta}$"
   ]
  },
  {
   "cell_type": "code",
   "execution_count": 175,
   "id": "4c9c86ac",
   "metadata": {
    "collapsed": false,
    "editable": true
   },
   "outputs": [
    {
     "name": "stdout",
     "output_type": "stream",
     "text": [
      "Closed-form Ridge coefficients: [-1.16618924  6.08178868]\n",
      "Closed-form OLS coefficients: [-1.  5.]\n"
     ]
    }
   ],
   "source": [
    "# Set regularization parameter, either a single value or a vector of values\n",
    "# Note that lambda is a python keyword. The lambda keyword is used to create small, single-expression functions without a formal name. These are often called \"anonymous functions\" or \"lambda functions.\"\n",
    "lam = 0.01\n",
    "n_features = X_norm.shape[1]\n",
    "\n",
    "# Analytical form for OLS and Ridge solution: theta_Ridge = (X^T X + lambda * I)^{-1} X^T y and theta_OLS = (X^T X)^{-1} X^T y\n",
    "I = np.eye(n_features) \n",
    "theta_closed_formRidge = np.linalg.inv(X_norm.T @ X_norm + lam * I) @ X_norm.T @ y_centered \n",
    "theta_closed_formOLS = np.linalg.inv(X_norm.T @ X) @ X_norm.T @ y_centered\n",
    "\n",
    "print(\"Closed-form Ridge coefficients:\", theta_closed_formRidge)\n",
    "print(\"Closed-form OLS coefficients:\", theta_closed_formOLS)\n"
   ]
  },
  {
   "cell_type": "markdown",
   "id": "eeae00fd",
   "metadata": {
    "editable": true
   },
   "source": [
    "This computes the Ridge and OLS regression coefficients directly. The identity\n",
    "matrix $I$ has the same size as $X^T X$. It adds $\\lambda$ to the diagonal of $X^T X$ for Ridge regression. We\n",
    "then invert this matrix and multiply by $X^T y$. The result\n",
    "for $\\boldsymbol{\\theta}$  is a NumPy array of shape (n$\\_$features,) containing the\n",
    "fitted parameters $\\boldsymbol{\\theta}$."
   ]
  },
  {
   "cell_type": "markdown",
   "id": "e1c215d5",
   "metadata": {
    "editable": true
   },
   "source": [
    "### 3a)\n",
    "\n",
    "Finalize, in the above code, the OLS and Ridge regression determination of the optimal parameters $\\boldsymbol{\\theta}$."
   ]
  },
  {
   "cell_type": "code",
   "execution_count": 176,
   "id": "9064db8b",
   "metadata": {},
   "outputs": [],
   "source": [
    "y_tilde_OLS = X_norm @ theta_closed_formOLS\n",
    "y_tilde_Ridge = X_norm @ theta_closed_formRidge"
   ]
  },
  {
   "cell_type": "markdown",
   "id": "587dd3dc",
   "metadata": {
    "editable": true
   },
   "source": [
    "### 3b)\n",
    "\n",
    "Explore the results as function of different values of the hyperparameter $\\lambda$. See for example exercise 4 from week 36."
   ]
  },
  {
   "cell_type": "code",
   "execution_count": 177,
   "id": "f3da6dbe",
   "metadata": {},
   "outputs": [
    {
     "data": {
      "image/png": "[encoded data removed]",
      "text/plain": [
       "<Figure size 640x480 with 1 Axes>"
      ]
     },
     "metadata": {},
     "output_type": "display_data"
    }
   ],
   "source": [
    "nlambdas = 100\n",
    "lambdas = np.logspace(-1, 5, nlambdas)\n",
    "mse_ridge = []\n",
    "from sklearn.metrics import mean_squared_error\n",
    "\n",
    "for i in range(nlambdas):\n",
    "    lmb = lambdas[i]\n",
    "    theta_Ridge_change_lam = np.linalg.inv(X_norm.T @ X_norm + lmb * I) @ X_norm.T @ y_centered \n",
    "\n",
    "    ytilde_change_lam = X_norm @ theta_Ridge_change_lam\n",
    "    \n",
    "    mse_ridge.append(mean_squared_error(y_centered, ytilde_change_lam))\n",
    "\n",
    "\n",
    "plt.plot(np.log10(lambdas), mse_ridge, label = \"MSE\")\n",
    "#plt.legend()\n",
    "plt.ylabel('MSE')\n",
    "plt.xlabel('log10(λ)')\n",
    "plt.show()"
   ]
  },
  {
   "cell_type": "code",
   "execution_count": 181,
   "id": "bb053231",
   "metadata": {},
   "outputs": [],
   "source": [
    "# #Checking what scaled vs. unscaled and predicted look like \n",
    "# fig, ax = plt.subplots(figsize=(7.5, 5))\n",
    "# ax.scatter(x,y, label=\"Data unscaled\")\n",
    "# ax.scatter(X_norm[:,0], y_centered, label=\"Data scaled\")\n",
    "# ax.plot(X_norm[:,0], y_tilde_OLS, label=\"OLS\")\n",
    "# ax.plot(X_norm[:,0],y_tilde_Ridge, label=\"Ridge\")\n",
    "# ax.legend()"
   ]
  },
  {
   "cell_type": "markdown",
   "id": "bfa34697",
   "metadata": {
    "editable": true
   },
   "source": [
    "## Exercise 4, Implementing the simplest form for gradient descent\n",
    "\n",
    "Alternatively, we can fit the ridge regression model using gradient\n",
    "descent. This is useful to visualize the iterative convergence and is\n",
    "necessary if $n$ and $p$ are so large that the closed-form might be\n",
    "too slow or memory-intensive. We derive the gradients from the cost\n",
    "functions defined above. Use the gradients of the Ridge and OLS cost functions with respect to\n",
    "the parameters  $\\boldsymbol{\\theta}$ and set up (using the template below) your own gradient descent code for OLS and Ridge regression.\n",
    "\n",
    "Below is a template code for gradient descent implementation of ridge:"
   ]
  },
  {
   "cell_type": "code",
   "execution_count": 205,
   "id": "49245f55",
   "metadata": {
    "collapsed": false,
    "editable": true
   },
   "outputs": [
    {
     "name": "stdout",
     "output_type": "stream",
     "text": [
      "Gradient Descent OLS coefficients: [-1.16625801  6.08214733]\n"
     ]
    },
    {
     "data": {
      "image/png": "[encoded data removed]",
      "text/plain": [
       "<Figure size 640x480 with 1 Axes>"
      ]
     },
     "metadata": {},
     "output_type": "display_data"
    }
   ],
   "source": [
    "# Gradient descent parameters, learning rate eta first\n",
    "eta = 0.01 # try with different etas \n",
    "# Then number of iterations\n",
    "num_iters = 500\n",
    "\n",
    "# Initialize weights for gradient descent\n",
    "theta_gdOLS = np.zeros(n_features) # initial guess (0 in this case, gives a point in the cost function)\n",
    "theta_gdRidge = np.zeros(n_features) \n",
    "\n",
    "# lambda\n",
    "lam = 0.01\n",
    "\n",
    "mse_gdOLS = []\n",
    "\n",
    "# Gradient descent loop, try with different eta \n",
    "for t in range(num_iters):\n",
    "    \n",
    "    # Compute gradients for OSL and Ridge\n",
    "    grad_OLS = (2.0 / n) * (X_norm.T @ (X_norm @ theta_gdOLS - y_centered))\n",
    "    # Update parameters theta\n",
    "    theta_gdOLS -= eta * grad_OLS # theta_new = theta_old - gradient*eta\n",
    "\n",
    "    ypredict_OLS = X_norm @ theta_gdOLS\n",
    "    mse_gdOLS.append(mean_squared_error(y_centered, ypredict_OLS))\n",
    "\n",
    "print(\"Gradient Descent OLS coefficients:\", theta_gdOLS)\n",
    "\n",
    "plt.plot(mse_gdOLS, label = \"MSE\")\n",
    "#plt.legend()\n",
    "plt.ylabel('MSE')\n",
    "plt.xlabel('Iterations')\n",
    "plt.show()"
   ]
  },
  {
   "cell_type": "markdown",
   "id": "f3f43f2c",
   "metadata": {
    "editable": true
   },
   "source": [
    "### 4a)\n",
    "\n",
    "Write first a gradient descent code for OLS only using the above template.\n",
    "Discuss the results as function of the learning rate parameters and the number of iterations\n",
    "\n",
    "When eta=0.01, iterations after around 200 don't change the MSE much. \n",
    "\n",
    "If eta grows a bit, e.g. from 0.01 to 0.05, MSE decreases faster (bigger steps -> getting to the right parameters faster). If eta is too high (tested with 1) -> doesn't converge, too big step. "
   ]
  },
  {
   "cell_type": "markdown",
   "id": "9ba303be",
   "metadata": {
    "editable": true
   },
   "source": [
    "### 4b)\n",
    "\n",
    "Write then a similar code for Ridge regression using the above template.\n",
    "Try to add a stopping parameter as function of the number iterations and the difference between the new and old $\\theta$ values. How would you define a stopping criterion?"
   ]
  },
  {
   "cell_type": "code",
   "execution_count": null,
   "id": "d771a8d6",
   "metadata": {},
   "outputs": [
    {
     "name": "stdout",
     "output_type": "stream",
     "text": [
      "Stopping criterion 1 at iteration 86\n",
      "Gradient Descent Ridge coefficients: [-1.15475827  6.02217508]\n"
     ]
    }
   ],
   "source": [
    "# Gradient descent parameters, learning rate eta first\n",
    "eta = 0.1\n",
    "# Then number of iterations\n",
    "num_iters = 1000\n",
    "# Initialize weights for gradient descent\n",
    "theta_gdRidge = np.zeros(n_features) # initial guess (0 in this case, gives a point in the cost function)\n",
    "\n",
    "# lambda\n",
    "lam = 0.01\n",
    "\n",
    "# Gradient descent loop\n",
    "for t in range(num_iters):\n",
    "    # Compute gradients for Ridge\n",
    "    grad_Ridge = (2.0 / n) * (X_norm.T @ (X_norm @ theta_gdRidge - y_centered)) + 2*lam*theta_gdRidge\n",
    "    \n",
    "    # stopping criteria 1 \n",
    "    if grad_Ridge[0] < 1e-8: # when gradient gets really small\n",
    "        print('Stopping criterion 1 at iteration', t)\n",
    "        break\n",
    "    \n",
    "    # Update parameters theta\n",
    "    theta_gdRidge -=  eta * grad_Ridge # theta_new = theta_old - gradient*eta\n",
    "\n",
    "print(\"Gradient Descent Ridge coefficients:\", theta_gdRidge)"
   ]
  },
  {
   "cell_type": "markdown",
   "id": "78362c6c",
   "metadata": {
    "editable": true
   },
   "source": [
    "## Exercise 5, Ridge regression and a new Synthetic Dataset\n",
    "\n",
    "We create a synthetic linear regression dataset with a sparse\n",
    "underlying relationship. This means we have many features but only a\n",
    "few of them actually contribute to the target. In our example, we’ll\n",
    "use 10 features with only 3 non-zero weights in the true model. This\n",
    "way, the target is generated as a linear combination of a few features\n",
    "(with known coefficients) plus some random noise. The steps we include are:\n",
    "\n",
    "Decide on the number of samples and features (e.g. 100 samples, 10 features).\n",
    "Define the **true** coefficient vector with mostly zeros (for sparsity). For example, we set $\\hat{\\boldsymbol{\\theta}} = [5.0, -3.0, 0.0, 0.0, 0.0, 0.0, 2.0, 0.0, 0.0, 0.0]$, meaning only features 0, 1, and 6 have a real effect on y.\n",
    "\n",
    "Then we sample feature values for $\\boldsymbol{X}$ randomly (e.g. from a normal distribution). We use a normal distribution so features are roughly centered around 0.\n",
    "Then we compute the target values $y$ using the linear combination $\\boldsymbol{X}\\hat{\\boldsymbol{\\theta}}$ and add some noise (to simulate measurement error or unexplained variance).\n",
    "\n",
    "Below is the code to generate the dataset:"
   ]
  },
  {
   "cell_type": "code",
   "execution_count": 207,
   "id": "8be1cebe",
   "metadata": {
    "collapsed": false,
    "editable": true
   },
   "outputs": [],
   "source": [
    "import numpy as np\n",
    "\n",
    "# Set random seed for reproducibility\n",
    "np.random.seed(0)\n",
    "\n",
    "# Define dataset size\n",
    "n_samples = 100\n",
    "n_features = 10\n",
    "\n",
    "# Define true coefficients (sparse linear relationship)\n",
    "theta_true = np.array([5.0, -3.0, 0.0, 0.0, 0.0, 0.0, 2.0, 0.0, 0.0, 0.0])\n",
    "\n",
    "# Generate feature matrix X (n_samples x n_features) with random values\n",
    "X = np.random.randn(n_samples, n_features)  # standard normal distribution\n",
    "\n",
    "# Generate target values y with a linear combination of X and theta_true, plus noise\n",
    "noise = 0.5 * np.random.randn(n_samples)    # Gaussian noise\n",
    "y = X @ theta_true + noise"
   ]
  },
  {
   "cell_type": "markdown",
   "id": "e2693666",
   "metadata": {
    "editable": true
   },
   "source": [
    "This code produces a dataset where only features 0, 1, and 6\n",
    "significantly influence $\\boldsymbol{y}$. The rest of the features have zero true\n",
    "coefficient. For example, feature 0 has\n",
    "a true weight of 5.0, feature 1 has -3.0, and feature 6 has 2.0, so\n",
    "the expected relationship is:"
   ]
  },
  {
   "cell_type": "markdown",
   "id": "bc954d12",
   "metadata": {
    "editable": true
   },
   "source": [
    "$$\n",
    "y \\approx 5 \\times x_0 \\;-\\; 3 \\times x_1 \\;+\\; 2 \\times x_6 \\;+\\; \\text{noise}.\n",
    "$$"
   ]
  },
  {
   "cell_type": "markdown",
   "id": "6534b610",
   "metadata": {
    "editable": true
   },
   "source": [
    "You can remove the noise if you wish to. \n",
    "\n",
    "Try to fit the above data set using OLS and Ridge regression with the analytical expressions and your own gradient descent codes.\n",
    "\n",
    "If everything worked correctly, the learned coefficients should be\n",
    "close to the true values [5.0, -3.0, 0.0, …, 2.0, …] that we used to\n",
    "generate the data. Keep in mind that due to regularization and noise,\n",
    "the learned values will not exactly equal the true ones, but they\n",
    "should be in the same ballpark.  Which method (OLS or Ridge) gives the best results?"
   ]
  },
  {
   "cell_type": "code",
   "execution_count": 208,
   "id": "7ea69d8b",
   "metadata": {},
   "outputs": [],
   "source": [
    "# Scale data\n",
    "\n",
    "# Standardize features (zero mean, unit variance for each feature)\n",
    "X_mean = X.mean(axis=0)\n",
    "X_std = X.std(axis=0)\n",
    "X_std[X_std == 0] = 1  # safeguard to avoid division by zero for constant features\n",
    "X_norm = (X - X_mean) / X_std\n",
    "\n",
    "# Center the target to zero mean (optional, to simplify intercept handling)\n",
    "y_mean = y.mean()\n",
    "y_centered = y - y_mean\n"
   ]
  },
  {
   "cell_type": "code",
   "execution_count": 209,
   "id": "ff2eaab5",
   "metadata": {},
   "outputs": [
    {
     "name": "stdout",
     "output_type": "stream",
     "text": [
      "Closed-form Ridge coefficients: [ 5.03236023e+00 -2.89254552e+00 -1.55189745e-02  1.51799953e-01\n",
      " -6.83399548e-02 -4.40218943e-02  1.76998234e+00  4.37888911e-03\n",
      "  4.52438314e-02 -4.97600525e-02]\n",
      "Closed-form OLS coefficients: [ 5.01456761e+00 -3.00156942e+00 -1.71584028e-02  1.46900604e-01\n",
      " -6.95058659e-02 -4.29338897e-02  2.05500444e+00  4.18641664e-03\n",
      "  4.20041331e-02 -5.54199056e-02]\n"
     ]
    }
   ],
   "source": [
    "#OLS and Ridge analytical\n",
    "\n",
    "lam = 0.001\n",
    "n_features = X_norm.shape[1]\n",
    "\n",
    "# Analytical form for OLS and Ridge solution: theta_Ridge = (X^T X + lambda * I)^{-1} X^T y and theta_OLS = (X^T X)^{-1} X^T y\n",
    "I = np.eye(n_features) \n",
    "theta_closed_formRidge = np.linalg.inv(X_norm.T @ X_norm + lam * I) @ X_norm.T @ y_centered \n",
    "theta_closed_formOLS = np.linalg.inv(X_norm.T @ X) @ X_norm.T @ y_centered\n",
    "\n",
    "print(\"Closed-form Ridge coefficients:\", theta_closed_formRidge)\n",
    "print(\"Closed-form OLS coefficients:\", theta_closed_formOLS)\n",
    "\n",
    "y_tilde_OLS = X_norm @ theta_closed_formOLS\n",
    "y_tilde_Ridge = X_norm @ theta_closed_formRidge\n"
   ]
  },
  {
   "cell_type": "code",
   "execution_count": null,
   "id": "35c474fb",
   "metadata": {},
   "outputs": [
    {
     "name": "stdout",
     "output_type": "stream",
     "text": [
      "Gradient Descent OLS coefficients: [ 5.03240993e+00 -2.89257674e+00 -1.55188292e-02  1.51797972e-01\n",
      " -6.83348622e-02 -4.40175896e-02  1.76999807e+00  4.37586854e-03\n",
      "  4.52516379e-02 -4.97604811e-02]\n",
      "Gradient Descent Ridge coefficients: [ 4.98041689 -2.85683549 -0.01549969  0.15659199 -0.0781063  -0.05095001\n",
      "  1.75377935  0.00679068  0.03430438 -0.04883417]\n"
     ]
    },
    {
     "ename": "AttributeError",
     "evalue": "'list' object has no attribute 'mean'",
     "output_type": "error",
     "traceback": [
      "\u001b[31m---------------------------------------------------------------------------\u001b[39m",
      "\u001b[31mAttributeError\u001b[39m                            Traceback (most recent call last)",
      "\u001b[36mCell\u001b[39m\u001b[36m \u001b[39m\u001b[32mIn[218]\u001b[39m\u001b[32m, line 53\u001b[39m\n\u001b[32m     41\u001b[39m \u001b[38;5;28mprint\u001b[39m(\u001b[33m\"\u001b[39m\u001b[33mGradient Descent Ridge coefficients:\u001b[39m\u001b[33m\"\u001b[39m, theta_gdRidge)\n\u001b[32m     43\u001b[39m \u001b[38;5;66;03m# plt.plot(mse_gdOLS, label = \"MSE OLS\")\u001b[39;00m\n\u001b[32m     44\u001b[39m \u001b[38;5;66;03m# plt.plot(mse_ridge, label = \"MSE Ridge\")\u001b[39;00m\n\u001b[32m     45\u001b[39m \u001b[38;5;66;03m# plt.legend()\u001b[39;00m\n\u001b[32m   (...)\u001b[39m\u001b[32m     50\u001b[39m \n\u001b[32m     51\u001b[39m \u001b[38;5;66;03m# Compare MSEs between OLS and Rdige!!! And then you're done¨\u001b[39;00m\n\u001b[32m---> \u001b[39m\u001b[32m53\u001b[39m \u001b[43mmse_gdOLS\u001b[49m\u001b[43m.\u001b[49m\u001b[43mmean\u001b[49m\n",
      "\u001b[31mAttributeError\u001b[39m: 'list' object has no attribute 'mean'"
     ]
    }
   ],
   "source": [
    "# OLS and Ridge gradient descent \n",
    "\n",
    "# Gradient descent parameters, learning rate eta first\n",
    "eta = 0.01\n",
    "# Then number of iterations\n",
    "num_iters = 1000\n",
    "\n",
    "# Initialize weights for gradient descent\n",
    "theta_gdOLS = np.zeros(n_features) # initial guess (0 in this case, gives a point in the cost function)\n",
    "theta_gdRidge = np.zeros(n_features) \n",
    "\n",
    "# lambda\n",
    "lam = 0.01\n",
    "\n",
    "mse_gdOLS = []\n",
    "mse_ridge = []\n",
    "\n",
    "# Gradient descent loop\n",
    "for t in range(num_iters):\n",
    "    # Compute gradients for OSL and Ridge\n",
    "    grad_OLS = (2.0 / n) * (X_norm.T @ (X_norm @ theta_gdOLS - y_centered))\n",
    "    grad_Ridge = (2.0 / n) * (X_norm.T @ (X_norm @ theta_gdRidge - y_centered)) + 2*lam*theta_gdRidge\n",
    "    \n",
    "    #stopping criterion 1  \n",
    "    # if grad_Ridge[0] < 1e-1000: # when gradient gets really small\n",
    "    #     print('Stopping criterion 1 at iteration', t)\n",
    "    #     break\n",
    "    \n",
    "    # Update parameters theta\n",
    "    theta_gdOLS -= eta * grad_OLS # theta_new = theta_old - gradient*eta\n",
    "    theta_gdRidge -=  eta * grad_Ridge # theta_new = theta_old - gradient*eta\n",
    "    \n",
    "    ypredict_OLS = X_norm @ theta_gdOLS\n",
    "    ypredict_Ridge = X_norm @ theta_gdRidge\n",
    "\n",
    "    mse_gdOLS.append(mean_squared_error(y_centered, ypredict_OLS))\n",
    "    mse_ridge.append(mean_squared_error(y_centered, ypredict_Ridge))\n",
    "\n",
    "\n",
    "print(\"Gradient Descent OLS coefficients:\", theta_gdOLS)\n",
    "print(\"Gradient Descent Ridge coefficients:\", theta_gdRidge)\n",
    "\n",
    "# plt.plot(mse_gdOLS, label = \"MSE OLS\")\n",
    "# plt.plot(mse_ridge, label = \"MSE Ridge\")\n",
    "# plt.legend()\n",
    "# plt.ylabel('MSE')\n",
    "# plt.xlabel('Iterations')\n",
    "# plt.show()\n",
    "\n",
    "\n",
    "# Compare MSEs between OLS and Rdige!!! And then you're done¨\n"
   ]
  }
 ],
 "metadata": {
  "kernelspec": {
   "display_name": "venv (3.13.5)",
   "language": "python",
   "name": "python3"
  },
  "language_info": {
   "codemirror_mode": {
    "name": "ipython",
    "version": 3
   },
   "file_extension": ".py",
   "mimetype": "text/x-python",
   "name": "python",
   "nbconvert_exporter": "python",
   "pygments_lexer": "ipython3",
   "version": "3.13.5"
  }
 },
 "nbformat": 4,
 "nbformat_minor": 5
}
