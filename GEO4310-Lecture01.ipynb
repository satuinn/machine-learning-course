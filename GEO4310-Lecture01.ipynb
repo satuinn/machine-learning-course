{
 "cells": [
  {
   "cell_type": "markdown",
   "metadata": {},
   "source": [
    "# Lecture 1: Introduction, Basic Concepts of Probability"
   ]
  },
  {
   "cell_type": "markdown",
   "metadata": {},
   "source": [
    "\n",
    "\n",
    "## Outline for the day\n",
    "\n",
    "* Introductions\n",
    "* Introduce the syllabus & teaching plan\n",
    "* Explain lab sessions\n",
    "* Go over the course objectives and tools\n",
    "* Review of Basic Probability concepts\n",
    "    - Types of data sets\n",
    "    - Review of Set theory & Venn diagrams\n",
    "    - Mathematics of Probability\n",
    "    - Sampling & Counting\n",
    "\n",
    "\n",
    "### Course Syllabus, Goals, and Tools\n",
    "\n",
    "The purpose of this course is to review basic statistical concepts and introduce you to tools and their applications in the hydrologic sciences. You will gain an understanding of how to apply your knowledge of statistics to hydrology, when to use and when not to use various tools available. The course covers a broad range of topics -- each of which could potentially be a course on it's own.\n",
    "\n",
    "\n",
    "#### Goals for the course\n",
    "* Where and when to use statistical or stochastic methods in hydrology\n",
    "* Where, when, and how to apply statistical methods or probability distributions to solve hydrologic problems\n",
    "* The main objective is **not** to go deeply into the theory behind the techniques, but rather to provide the tools and ability to apply with confidence (but, we need to **understand** these tools, and know when they might _not_ work)\n",
    "\n",
    "#### Tools you will gain\n",
    "* Ability to conduct / understand statistical analyses with applications to hydrology (*from a general engineering perspective)\n",
    "* Develop **descriptive statistics** for a dataset\n",
    "* Conduct a **time series analysis** of a dataset\n",
    "* Develop **statistical models** & methods for dealing *noisy data*, *seasonal* or *cyclic* data, and __missing values__\n",
    "\n"
   ]
  },
  {
   "cell_type": "markdown",
   "metadata": {},
   "source": [
    "## Review of Probability Concepts\n",
    "\n",
    "### Vocabulary\n",
    "\n",
    "\n",
    "__Outcome__ - The result of an experiment\n",
    "\n",
    "\n",
    "__Sample Space__ - A list of all possible outcomes ($S$)\n",
    "\n",
    "\n",
    "__Element__ - Any particular point in the Sample Space\n",
    "\n",
    "\n",
    "__Event__ - Any collectino of experimental outcomes (A subset of $S$)\n",
    "\n",
    "\n",
    "__Frequency__ - The number of times something happens\n",
    "\n",
    "\n",
    "__Relative Frequency__ - The frequency relative to the number of times it (e.g. something) could have happened.\n",
    "\n"
   ]
  },
  {
   "cell_type": "markdown",
   "metadata": {},
   "source": [
    "### Example 1.1 - Desiging a field campaign\n",
    "\n",
    "\n",
    "You have a field a campaign in a remote regions, you will need to set up an instrument in harsh conditions for 6 mos. Your engineers have told you each instrument has a 50% chance of functioning after 6 mos. If you bring 3 instruments, what is the probability that **only one** is operational after 6 mos.?\n",
    "\n",
    "Let's denote the conditions: Working (G), Not Working/Failed (B):\n",
    "\n",
    "#### Outcomes:\n",
    "\n",
    "GGG GGB GBG BGG BBB BGB BBG GBB\n",
    "\n",
    "Note that only one of the outcomes is possible, therefore these are **mutually exclusive** events.\n",
    "\n",
    "#### Solution:\n",
    "\n",
    "In 3 of 8 outcomes, there is **only one** Working (G) instrument, hence the probability is 3/8."
   ]
  },
  {
   "cell_type": "markdown",
   "metadata": {},
   "source": [
    "### Example 1.2 - Engineering Design\n",
    "\n",
    "Your engineers worked in the field taking observations of traffic counts at an intersection over 2 mos. during periods of high traffic. In total 60 observations were made with the following results:\n",
    "\n",
    "| No. Cars      | No. Obs       | Relative Freq.|\n",
    "| ------------- |:-------------:| -------------:|\n",
    "| 0             | 4             | 4/60          |\n",
    "| 1             | 12            | 12/60         |\n",
    "| 2             | 20            | 20/60         |\n",
    "| 3             | 14            | 14/60         |\n",
    "| 4             | 3             | 3/60          |\n",
    "| 5             | 2             | 2/60          |\n",
    "| 6             | 1             | 1/60          |\n",
    "| 7             | 0             | 0/60          |\n",
    "| 8             | 0             | 0/60          |\n",
    "| .             | .             | .             |\n",
    "| ..            | .             | .             |\n",
    "| ...           | .             | .             |\n",
    "\n",
    "\n",
    "You are charged with designing a left turn lane, what is the probability of 5 or more cars waiting?\n",
    "\n",
    "### Solution:\n",
    "\n",
    "Probabilty of the event \"Five or more cars waiting\" is:\n",
    "\n",
    "2/60 + 1/60 = 3/60 = 5%\n",
    "\n"
   ]
  },
  {
   "cell_type": "markdown",
   "metadata": {},
   "source": [
    "## Elements of Set Theory\n",
    "\n",
    "Review of the basic elements of Set Theory, including the *sample space* -- which is collectively the set of all possibilities in a probabilistic problem; and the sample points -- of which a collection of may be considered an *event*. That is, an *event* is a *subset of the sample space*.\n",
    "\n",
    "Some sample spaces may be *discrete*, others may be *continuous*. When the sample space is discrete the individual points or subset of points making up an event may be countable. In a continuous case, they are made up of a continuum of sample points. In the discrete case, the space may be further divided into a *finite* case or an *infinite* case -- whereby there are a potentially infinite number of sample points.\n",
    "\n",
    "For the case of a continuous sample space, the sample points are inherently infinite.\n",
    "\n",
    "An event however, regardless of whether it comes from a continuous or discrete sample space will always contain one or more sample points (unless it is an *impossible event* ). For probability calculations, we are always refering to an event within a certain sample space.\n",
    "\n",
    "\n",
    "#### Special Events:\n",
    "\n",
    "__Impossible Event__ - ($\\emptyset$), an event with no sample points. An __empty set__ in a sample space.\n",
    "\n",
    "__Certain Event__ - ($S$), event containing **ALL** sample points in a sample space (e.g. the Sample Space itself)\n",
    "\n",
    "__Complementary Event__ - ($\\complement$), For an event $E$ in a sample space $S$, the complementary event $\\bar{E}$ contains all points that are __not__ in the event $E$.\n",
    "\n",
    "\n",
    "#### The Venn Diagram\n",
    "\n",
    "Venn diagrams provide a tool for visualizing rather simple probabilistic events. The classic Venn diagrams are composed of a rectangle representing the *sample space* ($S$) with one or more *event* ($E$) contained within the rectangle. The primary operational rules of set theory may then be visually explained:\n",
    "\n",
    "##### Intersection $\\bigcap$: \n",
    "![alt text](http://upload.wikimedia.org/wikipedia/commons/thumb/9/99/Venn0001.svg/200px-Venn0001.svg.png \"Intersection\")\n",
    "\n",
    "##### Union $\\bigcup$: \n",
    "![alt text](http://upload.wikimedia.org/wikipedia/commons/thumb/3/30/Venn0111.svg/200px-Venn0111.svg.png \"Union\")\n",
    "\n",
    "##### Difference $\\Delta$ \n",
    "![alt text](http://upload.wikimedia.org/wikipedia/commons/thumb/4/46/Venn0110.svg/200px-Venn0110.svg.png \"Symmetric Difference\")\n",
    "\n",
    "\n",
    "[**Further Reading**] http://en.wikipedia.org/wiki/Set_(mathematics)\n",
    "\n",
    "In addition to the above figures there are several other important operations:\n",
    "\n",
    "##### Superset $\\supset$ and Subset $\\subset: \n",
    "\n",
    "\n",
    "$A \\supset B$\tproper superset / strict superset\tset A has more elements than set B\t{9,14,28} ⊃ {9,14}\n",
    "\n",
    "$A \\subset B$\tproper subset / strict subset\tsubset has fewer elements than the set\t{9,14} ⊂ {9,14,28}\n",
    "\n",
    "\n",
    "### Operational Rules of Set Theory\n",
    "\n",
    "#### Equality of sets\n",
    "\n",
    "Two set are *equal* if and only if both sets contain exactly the same sample points:\n",
    "\n",
    "$A \\cup \\emptyset = A$\n",
    "\n",
    "$A \\cap \\emptyset = \\emptyset$\n",
    "\n",
    "$A \\cup A = A$\n",
    "\n",
    "$A \\cap A = A$\n",
    "\n",
    "$A \\cup S = S$\n",
    "\n",
    "$A \\cap S = A$\n",
    "\n",
    "#### Complementary Sets\n",
    "\n",
    "$E \\cup \\bar{E} = S$\n",
    "\n",
    "$E \\cap \\bar{E} = \\emptyset$\n",
    "\n",
    "*note* the complement of the complement is the original event.\n",
    "\n",
    "#### Commutative Rule\n",
    "\n",
    "$A \\cup B = B \\cup A$\n",
    "\n",
    "$AB = BA$\n",
    "\n",
    "#### Associative Rule\n",
    "\n",
    "$(A \\cup B) \\cup C = A \\cup (B \\cup C)$\n",
    "\n",
    "$(AB)C = A(BC)$\n",
    "\n",
    "#### Distributive Rule\n",
    "\n",
    "$(A \\cup B)C = AC \\cup BC$\n",
    "\n",
    "$(AB) \\cup C = (A \\cup C)(B \\cup C)$\n",
    "\n",
    "Note that we can think of the the **Union** mapped to *addition* and **Intersection** mapped to *multiplication* in order to use the traditional rules of algebra for hierarchy of operational order.\n",
    "\n",
    "\n",
    "\n"
   ]
  },
  {
   "cell_type": "markdown",
   "metadata": {},
   "source": [
    "## Mathematics of Probability, Basic Axioms and the Additive Rule\n",
    "\n",
    "So far we have assumed a **non negative measure** that we call **Probability** is associated with every *event*. This non negative measure, *probability* has certain properties and follow certain operational rules. The *Theory of Probability* is based on fundamental assumptions, or **axioms**, as follows:\n",
    "\n",
    "For every event $E$ in the sample space, $S$, there exists a probabilty:\n",
    "\n",
    "**[1]** $ P(E) \\geq 0$\n",
    "\n",
    "Secondly, the probability of the *certain event*, $S$ is:\n",
    "\n",
    "**[2]** $ P(S) = 1.0 $\n",
    "\n",
    "Finally, for two events $E_1$ and $E_2$ that are *mutually exclusive*:\n",
    "\n",
    "**[3]** $ P(E_1 \\cup E_2) = P(E_1) + P(E_2) $\n",
    "\n",
    "\n",
    "These axioms (assumptions) are fundamental to and constitute the basis for *probability theory*. They are not subject to proof. In practice and reality, the probability of an event is a relative measure -- and we define it naturally to be a nonnegative number (e.g. [1]). We define an event $E$ within a sample space $S$, and therefore it is convenient that we normalize the relative measure with respect to the probability of $S$. On the basis of the assumptions [1] and [2] it can be seen clearly then, that our probabilities in general are bounded:\n",
    "\n",
    "$ 0 \\leq P(E) \\leq 1.0 $\n",
    "\n",
    "#### Relative Frequency\n",
    "\n",
    "We often measure the world in terms of a collection of observations. A limited subset of all possible *events*. Let's think about the relative events in relation to the third axiom -- the additive rule. If we see an event $E_1$ occurs $n_1$ times among $n$ repetitions of an experiement, and a second event $E_2$ happens to occur $n_2$ times during the same $n$ repetitions (and we know these two events are *mutually exclusive*, then we know that $E_1$ or $E_2$ will have occured ($n_1 + n_2$) times. So let's look at the probability calculation on the basis of relative frequency:\n",
    "\n",
    "$ P(E_1 \\cup E_2) = \\frac{n_1 + n_2} {n} = \\frac {n_1} {n} + \\frac {n_2} {n}  = P(E_1) + P(E_2) $\n",
    "\n",
    "What about $E$ with it's complement $\\bar{E}$? \n",
    "\n",
    "$ P(E \\cup \\bar{E}) = P(E) + P(\\bar{E}) $\n",
    "\n",
    "Recall that the **union** of $E$ with it's complement, $\\bar{E}$ is the sample space $S$. That is,\n",
    "\n",
    "$ P(E \\cup \\bar{E}) = P(S) = 1.0 $\n",
    "\n",
    "Therfore ($\\therefore$), \n",
    "\n",
    "$P(\\bar{E}) = 1 - P(E) $\n",
    "\n",
    "#### What if they are not mutually exclusive?\n",
    "\n",
    "We can think of the above relationship more generally for two events $E_1$ and $E_2$ in the case that they are not mutually exclusive:\n",
    "\n",
    "$P(E_1 \\cup E_2) = P(E_1) + P(E_2) - P(E_1 \\cap E_2) $\n",
    "\n",
    "To understand this, let's create Venn diagram for two overlapping events $E_1$ and $E_2$. \n",
    "\n",
    "<img src=\"files/figs/ATfig2-13.jpg\" style=\"width: 50%; height: 50%\"/>\n",
    "\n",
    "We will show that:\n",
    "\n",
    "$ P(E_1 \\cup \\bar{E_1} E_2) = P(E_1) + P(\\bar{E_1} E_2) $ where these are *mutually exclusive*\n",
    "\n",
    "But we also know:\n",
    "\n",
    "$\\bar{E_1}E_2 \\cup E_1 E_2 = S E_2 = E_2 $\n",
    "\n",
    "and since $E_1 E_2$ and $\\bar{E_1}E_2$ are mutually exclusive, we can see:\n",
    "\n",
    "$P(\\bar{E_1}E_2) = P(E_2) - P(E_1 \\cap E_2) $\n",
    "\n",
    "Which leads us back to our original relation for the general case.\n"
   ]
  },
  {
   "cell_type": "markdown",
   "metadata": {},
   "source": [
    "## Conditional Probability and the Multiplication Rule\n",
    "\n",
    "If the probability of an event depends on the occurence of another even then we have **conditional probability**. \n",
    "\n",
    "So what is the probability of $E_1$ given $E_2$? This means we assume $E_2$ has occured, and we want to find the probability of a sample point in $E_1$ that belongs to $E_2$:\n",
    "\n",
    "$P(E_1 | E_2) = \\frac {P(E_1 E_2)} {P(E_2)} $\n",
    "\n",
    "In essence, what we are doing is *normalizing* to a reconstituted sample space where the event has occured. That is, we want to know the likelihood of realizing a sample point in $E_1$ assuming that it belongs to $E_2$. \n",
    "\n",
    "Let's consider a few examples:\n",
    "\n",
    "Consider a 100km. stretch of highway, and assume the road condition and traffic volume are uniform throughout the full stretch so that accidents are equally likely to occur anywhere on the highway. We'll define two events:\n",
    "\n",
    "**A** = an accident within km (0-30)\n",
    "\n",
    "**B** = an accident within km (20 - 60)\n",
    "\n",
    "Since we have assumed equiprobability for accidents along any stretch of the 100 km of highway, then the probability of an accident within a stretch is proportional to the distance:\n",
    "\n",
    "$P(A) = \\frac {30}{100} $ and $P(B) = \\frac {40}{100} $\n",
    " \n",
    "Our question to consider is \"if an accident occurs in the interval (20, 60), what is the probability of event $A$?\" What we are saying is that an event has occured -- an accident along the interval 20,60. So we are interested to know the proportion of the distance that belongs to $B$ within which $A$ is also realized.\n",
    "\n",
    "$P(A|B) = \\frac{10}{40} = \\frac{10/100}{40/100} $\n",
    "\n",
    "Where:\n",
    "\n",
    "$P(A \\cap B) = 10/100 $ and $P(B) = 40/100$ (see above).\n",
    "\n",
    "\n"
   ]
  },
  {
   "cell_type": "markdown",
   "metadata": {},
   "source": [
    "### Xu Example 1.4\n",
    "\n",
    "River **a** and river **b** are two adjacent tributaries of a bigger river. River **a** has a yearly discharge smaller than it's mean annual discharge $u_a$ in 50% of the years, while river **b** has a yearly discharge smaller than its mean $u_b$ in 60% of years. At any year the probability of of river **b** having discharge smaller than $u_b$, given that river **a** has a discharge smaller than $u_a$ is 70%.\n",
    "\n",
    "__Event A__: $Q_a < u_a; P(A) = 0.5 $\n",
    "\n",
    "__Event B__: $Q_b < u_b; P(B) = 0.6 $\n",
    "\n",
    "We also know,\n",
    "\n",
    "$P(B | A) = 0.7 $\n",
    "\n",
    "Calculate the probability:\n",
    "\n",
    "[1] That both rivers have a discharge smaller than their mean value:\n",
    "\n",
    "> Since we know that $P(A) \\geq 0$, we can arrange our conditional probability to determine the intersection:\n",
    "\n",
    "$ P(A \\cap B) = P(A) * P(B | A)$\n",
    "\n",
    "> We also know that $P(B|A) \\neq P(B)$, therefore we know they are not **statistically independent**, so that:\n",
    "\n",
    "$ P(A \\cap B) = P(A) * P(B | A) = 0.5 * 0.7 = 0.35 $\n",
    "\n",
    "[2] That *at least* one river has a discharge smaller than it's mean:\n",
    "\n",
    "$P(A \\cup B) = P(A) + P(B) ... $\n",
    "\n",
    "> But we know these are not mutually exclusive and statistically independent, so.\n",
    "\n",
    "$P(A \\cup B) = P(A) + P(B) - P(A \\cap B) = 0.5 + 0.6 - 0.35 = 0.75 $\n",
    "\n",
    "[3] That river **a** has a discharge smaller than it's mean, given river **b** had a discharge smaller than the mean:\n",
    "\n",
    "> We can use the relationship we already determined, nameley\n",
    "\n",
    "$ P(A | B) = P(A \\cap B) / P(B) = 0.35 / 0.6 = 0.5833$\n",
    "\n",
    "[4] That *at least* one river has a discharge higher than it's mean:\n",
    "\n",
    "$P (\\bar{A} \\cup \\bar{B}) = ... $\n",
    "\n",
    "> Here we'll use the full sample space, and that fact that we already know the probability that *at least* one river has a discharge smaller than it's mean [2]. \n",
    "\n",
    "$P (\\bar{A} \\cup \\bar{B}) = P(S) - P(A \\cap B) = 1.0 - 0.75 = 0.25 $\n",
    "\n",
    "[5] That both rivers have a discharge higher than their mean:\n",
    "\n",
    "$P(\\bar{A} \\cap \\bar{B}) = 1.0 - P(A \\cap B) = 1.0 - 0.35 $\n",
    "\n",
    "\n"
   ]
  },
  {
   "cell_type": "markdown",
   "metadata": {},
   "source": [
    "==================================\n",
    "\n",
    "#### Xu Example 1.5 (from Haan Example 2.2)\n",
    "\n",
    "A study of daily rainfall at Station AK in July based on many years of observation has shown that:\n",
    "\n",
    "Probability of a rainy-rainy day (rainy day following a rainy day) is 0.444, \n",
    "\n",
    "a dry-dry day is 0.724, \n",
    "\n",
    "a dry-rainy day is 0.276, \n",
    "\n",
    "and a rainy-dry day is 0.556\n",
    "\n",
    "If it is observed that a certain July day (d1) is rainy, what is the probability that the next **two** days (d2 and d3) will also be rainy?\n",
    "\n",
    "##### Solution\n",
    "Let A be a rainy d2 and B be a rainy d3 following the initial rainy d1. The probability of A is 0.444 since this is the probability of a rainy-rainy day.\n",
    "\n",
    "The probability of two rainy days following a rainy day:\n",
    "\n",
    "$P(A \\cap B) = P(A) * P(B|A) $\n",
    "\n",
    "> We already know the probability of $P(B|A) = 0.444$ since this is the probability of a rainy day, following a rainy day. So to find the probability of the third consecutive rainy day, it is simply:\n",
    "\n",
    "$P(A \\cap B) = P(A) * P(B) = 0.444 * 0.444 = 0.197$\n",
    "\n",
    "The probability of two rainy days following a dry day would be $P(dry-rainy) * P(rainy-rainy)$:\n",
    "\n",
    "$P(dry-rainy) * P(rainy-rainy) = 0.276 * 0.444 = 0.122 $\n",
    "\n",
    "\n"
   ]
  },
  {
   "cell_type": "code",
   "execution_count": 1,
   "metadata": {},
   "outputs": [],
   "source": [
    "## Run this cell first\n",
    "%matplotlib inline\n",
    "import matplotlib.pyplot as plt\n",
    "import numpy as np"
   ]
  },
  {
   "cell_type": "code",
   "execution_count": 2,
   "metadata": {},
   "outputs": [
    {
     "name": "stderr",
     "output_type": "stream",
     "text": [
      "/opt/anaconda/envs/py2/lib/python2.7/site-packages/pandas/computation/__init__.py:19: UserWarning: The installed version of numexpr 2.4.4 is not supported in pandas and will be not be used\n",
      "\n",
      "  UserWarning)\n"
     ]
    },
    {
     "data": {
      "text/plain": [
       "<matplotlib.text.Text at 0x7f9c4e121c90>"
      ]
     },
     "execution_count": 2,
     "metadata": {},
     "output_type": "execute_result"
    },
    {
     "data": {
      "image/png": "[encoded data removed]",
      "text/plain": [
       "<matplotlib.figure.Figure at 0x7f9c53b34710>"
      ]
     },
     "metadata": {},
     "output_type": "display_data"
    }
   ],
   "source": [
    "import statsmodels.api as sm #\n",
    "## Yatze\n",
    "# Declartion / Preallocation\n",
    "ndice = 3\n",
    "roll = np.zeros(ndice)\n",
    "ngames = 10\n",
    "nrolls = np.zeros(ngames)\n",
    "\n",
    "#Loop over j dice in n games\n",
    "\n",
    "for n in range(ngames):\n",
    "    Yatze = False\n",
    "    \n",
    "    while not Yatze:\n",
    "        nrolls[n] += 1\n",
    "        for j in range(ndice):\n",
    "            roll[j] = np.random.randint(1, 7) #note seven!! \n",
    "            \n",
    "        #if all(roll[0] == item for item in roll):\n",
    "        if len(set(roll))==1:\n",
    "            #Yatze!\n",
    "            Yatze = True\n",
    "            \n",
    "ecdf = sm.distributions.ECDF(nrolls)\n",
    "\n",
    "x = np.linspace(min(nrolls), max(nrolls), len(nrolls+1000))\n",
    "y = ecdf(x)\n",
    "plt.step(x, y)\n",
    "plt.plot(x,y)\n",
    "plt.ylim([0,1.1])\n",
    "plt.grid(True)\n",
    "\n",
    "plt.title('Probability of Yatze based on {0} games'.format(ngames))\n",
    "plt.ylabel('Cumulative Probability, CDF(N)')\n",
    "plt.xlabel('Number of Rolls, N')"
   ]
  },
  {
   "cell_type": "code",
   "execution_count": 3,
   "metadata": {},
   "outputs": [
    {
     "data": {
      "text/plain": [
       "[<matplotlib.lines.Line2D at 0x7f9c3e24e050>]"
      ]
     },
     "execution_count": 3,
     "metadata": {},
     "output_type": "execute_result"
    },
    {
     "data": {
      "image/png": "[encoded data removed]",
      "text/plain": [
       "<matplotlib.figure.Figure at 0x7f9c4e121c10>"
      ]
     },
     "metadata": {},
     "output_type": "display_data"
    }
   ],
   "source": [
    "from random import randint\n",
    "import scipy.stats as st\n",
    "\n",
    "\"\"\" \n",
    "Heads = 1\n",
    "Tails = 0\n",
    "\"\"\"\n",
    "\n",
    "flips = 0\n",
    "trials = 100\n",
    "outcomes = 0\n",
    "prob = []\n",
    "\n",
    "for trial in range(1, trials):\n",
    "    outcome = randint(0, 1)\n",
    "    outcomes += outcome\n",
    "    prob.append(outcomes/float(trial))\n",
    "    \n",
    "plt.plot(range(1, trials), prob)\n",
    "plt.hold(True)\n",
    "#plt.plot(range(1,trials), st.bernoulli.pmf(range(1,trials), .5))\n",
    "plt.plot(range(1,trials), np.ones(trials-1)*0.5)\n",
    "    "
   ]
  },
  {
   "cell_type": "markdown",
   "metadata": {},
   "source": [
    "\n",
    "\n"
   ]
  },
  {
   "cell_type": "code",
   "execution_count": 5,
   "metadata": {},
   "outputs": [
    {
     "data": {
      "text/plain": [
       "(1895, 1995)"
      ]
     },
     "execution_count": 5,
     "metadata": {},
     "output_type": "execute_result"
    },
    {
     "data": {
      "image/png": "[encoded data removed]",
      "text/plain": [
       "<matplotlib.figure.Figure at 0x7f9c3e1e1950>"
      ]
     },
     "metadata": {},
     "output_type": "display_data"
    }
   ],
   "source": [
    "## Haan Table 2.1, p. 17\n",
    "flows = [float(i)*100 for i in open('../data/kentuckyriver.txt','r').readlines()[1:]]\n",
    "years = range(1895, 1994)\n",
    "plt.plot(years, flows)\n",
    "plt.title('Peak Annual Discharge, Kentucky River')\n",
    "plt.ylabel('Discharge (Q), [cfs]')\n",
    "\n",
    "plt.ylim([20000, 155000])\n",
    "plt.xlim([1895, 1995])\n",
    "#hist(flows)\n"
   ]
  },
  {
   "cell_type": "code",
   "execution_count": 6,
   "metadata": {},
   "outputs": [
    {
     "name": "stdout",
     "output_type": "stream",
     "text": [
      "Using 16 bins for Nc\n"
     ]
    },
    {
     "data": {
      "image/png": "[encoded data removed]",
      "text/plain": [
       "<matplotlib.figure.Figure at 0x7f9c3dfc8e90>"
      ]
     },
     "metadata": {},
     "output_type": "display_data"
    }
   ],
   "source": [
    "# Let's look at Histogram, Relative Frequency, and Cumulative Frequency\n",
    "\n",
    "def freq_analysis(flows, river='Kentucky River', period='1895-1994'):\n",
    "    \"\"\"\n",
    "    Make plots of Histogram, Relative Frequency, and Cumulative Frequency for \n",
    "    a time series\n",
    "    \"\"\"\n",
    "    ## Create the Figure\n",
    "    plt.figure(figsize=[16,6])\n",
    "    plt.suptitle('Calculations for {0} Flows {1}'.format(river, period))\n",
    "\n",
    "    ## Histogram, play with nc values to look at changes in shape.\n",
    "    num_obs = len(flows)\n",
    "    Nc = int( 1 + 3.3 * np.log(num_obs) )\n",
    "    nc = Nc\n",
    "    #nc = 100 #Nc #try larger, smaller 3, 10, 50\n",
    "    print \"Using {0} bins for Nc\".format(Nc)\n",
    "\n",
    "    ax = plt.subplot(131)\n",
    "    cnt, bins, patches = ax.hist(flows, bins=nc)\n",
    "\n",
    "    plt.xlabel('Peak Q [cfs]')\n",
    "    plt.ylabel('Counts')\n",
    "    plt.title('Histogram')\n",
    "\n",
    "    ## Relative Frequency Histogram\n",
    "    ax = plt.subplot(132)\n",
    "    num_obs = float(len(flows)) #don't use integer!\n",
    "    rel_freq = [c / num_obs for c in cnt]\n",
    "\n",
    "    ax.plot(bins[1:], rel_freq)\n",
    "    plt.xlabel('$Peak Q [cfs]$')\n",
    "    plt.ylabel('Relative Freq.')\n",
    "    plt.title('Relative Frequency')\n",
    "\n",
    "    ## Cumulative Frequence Histogram\n",
    "    ax = plt.subplot(133)\n",
    "    def cumulative_freq(rel_freq):\n",
    "        \"\"\" cumulative frequency \"\"\"\n",
    "        cum = 0\n",
    "        cumulative = []\n",
    "        for rf in rel_freq:\n",
    "            cum += rf\n",
    "            cumulative.append(cum)\n",
    "\n",
    "        return cumulative\n",
    "\n",
    "    cfreq = cumulative_freq(rel_freq)\n",
    "    ax.plot(bins[1:], cfreq)\n",
    "    plt.hold(True)\n",
    "    plt.axvline(x=np.mean(flows), color='b')\n",
    "    plt.plot(np.median(flows), .5, 'r*' )\n",
    "    plt.hist(flows, bins=nc, normed=True, cumulative=True, color='g')\n",
    "    plt.grid(True)\n",
    "    plt.xlabel('$Peak Q [cfs]$')\n",
    "    plt.ylabel('Cumulative Freq.')\n",
    "    plt.title('Cumulative Frequency')\n",
    "    \n",
    "freq_analysis(flows)"
   ]
  },
  {
   "cell_type": "code",
   "execution_count": 7,
   "metadata": {},
   "outputs": [
    {
     "name": "stdout",
     "output_type": "stream",
     "text": [
      "The Peak Annual Discharge Statistics for the Kentucky River durin 1895-1994 have the following characteristics:\n",
      "\n",
      "Count: 99\n",
      "Min/Max: (20600.0, 144000.0)\n",
      "Mean: 66540.4040404\n",
      "Median: 66300.0\n",
      "Std. Dev: 22322.2544725\n",
      "Variance: 498283044.733\n",
      "Skewness: 0.545569334656\n",
      "Kurtosis: 0.366528364515\n",
      "\n"
     ]
    }
   ],
   "source": [
    "from scipy import stats\n",
    "n, min_max, mean, var, skew, kurt = stats.describe(flows)\n",
    "median = np.median(flows)\n",
    "print \"\"\"The Peak Annual Discharge Statistics for the Kentucky River durin 1895-1994 have the following characteristics:\n",
    "\n",
    "Count: {0}\n",
    "Min/Max: {1}\n",
    "Mean: {2}\n",
    "Median: {3}\n",
    "Std. Dev: {4}\n",
    "Variance: {5}\n",
    "Skewness: {6}\n",
    "Kurtosis: {7}\n",
    "\"\"\".format(n, min_max, mean, median, np.sqrt(var), var, skew, kurt)"
   ]
  },
  {
   "cell_type": "raw",
   "metadata": {},
   "source": [
    "Example 1.11\n",
    "\n",
    "Plot the expected frequency histogram using the probability density function: (x)=(3∙x^2)/125 , and a class interval of ∆x=½.\n",
    "\n",
    "Solution:\n",
    "f_(x_i )=∆x_i∙f(x_i )=(3∙x^2)/250\n"
   ]
  },
  {
   "cell_type": "code",
   "execution_count": 8,
   "metadata": {},
   "outputs": [
    {
     "data": {
      "text/plain": [
       "(array([ 61.,  27.,  20.,  16.,  15.,  14.,  12.,  11.,  11.,  11.]),\n",
       " array([  1.20000000e-02,   1.18911000e+01,   2.37702000e+01,\n",
       "          3.56493000e+01,   4.75284000e+01,   5.94075000e+01,\n",
       "          7.12866000e+01,   8.31657000e+01,   9.50448000e+01,\n",
       "          1.06923900e+02,   1.18803000e+02]),\n",
       " <a list of 10 Patch objects>)"
      ]
     },
     "execution_count": 8,
     "metadata": {},
     "output_type": "execute_result"
    },
    {
     "data": {
      "image/png": "[encoded data removed]",
      "text/plain": [
       "<matplotlib.figure.Figure at 0x7f9c3e008690>"
      ]
     },
     "metadata": {},
     "output_type": "display_data"
    }
   ],
   "source": [
    "def f(x):\n",
    "    \"\"\" pdf of x \"\"\"\n",
    "    return (3 * x**2)/250\n",
    "dX = 0.5\n",
    "X = np.arange(1., 100., dX)\n",
    "y = np.array([f(x) for x in X]) \n",
    "\n",
    "plt.figure()\n",
    "plt.hist(y, bins=10)"
   ]
  },
  {
   "cell_type": "markdown",
   "metadata": {},
   "source": [
    "#### References / Notes\n",
    "\n",
    "Concepts and Examples are based on\n",
    "\n",
    "1. Ang H-S.A., Tang W.H.; Probability Concepts in Engineering Planning and Design, Volume 1: Basic Principles <http://books.google.no/books/about/Probability_Concepts_in_Engineering_Plan.html?id=EIRRAAAAMAAJ&redir_esc=y>\n",
    "2. Haan, C.; Statistical Methods in Hydrology 2nd. Edition. "
   ]
  },
  {
   "cell_type": "markdown",
   "metadata": {},
   "source": [
    "### Coda\n",
    "__Course__: GEO4310 Statistical and Stochastic Hydrology, University of Oslo\n",
    "\n",
    "__Contributions__\n",
    "\n",
    "* John F. Burkhart, 6. September 2014 --\n",
    "\n",
    "__License__\n",
    "\n",
    "[Creative Commons Attribution-ShareAlike 4.0 International Public License](https://creativecommons.org/licenses/by-sa/4.0/legalcode)"
   ]
  }
 ],
 "metadata": {
  "kernelspec": {
   "display_name": "Python [conda env:shyft]",
   "language": "python",
   "name": "conda-env-shyft-py"
  },
  "language_info": {
   "codemirror_mode": {
    "name": "ipython",
    "version": 3
   },
   "file_extension": ".py",
   "mimetype": "text/x-python",
   "name": "python",
   "nbconvert_exporter": "python",
   "pygments_lexer": "ipython3",
   "version": "3.5.3"
  }
 },
 "nbformat": 4,
 "nbformat_minor": 1
}
